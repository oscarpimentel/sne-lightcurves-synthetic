{
 "cells": [
  {
   "cell_type": "code",
   "execution_count": null,
   "metadata": {},
   "outputs": [],
   "source": [
    "import sys\n",
    "sys.path.append('../../') # or just install the module\n",
    "sys.path.append('../../../fuzzy-tools') # or just install the module\n",
    "sys.path.append('../../../astro-lightcurves-handler') # or just install the module"
   ]
  },
  {
   "cell_type": "code",
   "execution_count": null,
   "metadata": {},
   "outputs": [],
   "source": [
    "%load_ext autoreload\n",
    "%autoreload 2\n",
    "from synthsne.generators.time_meshs import get_augmented_time_mesh\n",
    "\n",
    "min_dt = 2\n",
    "extra_times = 10\n",
    "dropout_p = 0.0\n",
    "ti = 10\n",
    "tf = 11\n",
    "x = get_augmented_time_mesh([], ti, tf, min_dt, extra_times, dropout_p)\n",
    "print(x.shape, x)"
   ]
  }
 ],
 "metadata": {
  "kernelspec": {
   "display_name": "Python 3",
   "language": "python",
   "name": "python3"
  },
  "language_info": {
   "codemirror_mode": {
    "name": "ipython",
    "version": 3
   },
   "file_extension": ".py",
   "mimetype": "text/x-python",
   "name": "python",
   "nbconvert_exporter": "python",
   "pygments_lexer": "ipython3",
   "version": "3.7.9"
  }
 },
 "nbformat": 4,
 "nbformat_minor": 4
}
