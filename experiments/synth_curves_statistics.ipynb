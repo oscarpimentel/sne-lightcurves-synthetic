{
 "cells": [
  {
   "cell_type": "code",
   "execution_count": 1,
   "metadata": {},
   "outputs": [],
   "source": [
    "import sys\n",
    "sys.path.append('../') # or just install the module\n",
    "sys.path.append('../../fuzzy-tools') # or just install the module\n",
    "sys.path.append('../../astro-lightcurves-handler') # or just install the module"
   ]
  },
  {
   "cell_type": "code",
   "execution_count": 2,
   "metadata": {},
   "outputs": [],
   "source": [
    "%load_ext autoreload\n",
    "%autoreload 2\n",
    "from synthsne.results import synth_method_statistics as sms\n",
    "\n",
    "kf = '1'\n",
    "lcset_name = 'train'\n",
    "cfilename = f'survey=alerceZTFv7.1~bands=gr~mode=onlySNe'\n",
    "methods = [\n",
    "    'linear-fstw',\n",
    "    'bspline-fstw',\n",
    "    'spm-mle-fstw',\n",
    "    'spm-mle-estw',\n",
    "    'spm-mcmc-fstw',\n",
    "    'spm-mcmc-estw',\n",
    "    ]"
   ]
  },
  {
   "cell_type": "code",
   "execution_count": 3,
   "metadata": {},
   "outputs": [
    {
     "name": "stdout",
     "output_type": "stream",
     "text": [
      "method=linear-fstw - any_incorrects_fittings=24 #\n",
      "method=bspline-fstw - any_incorrects_fittings=24 #\n",
      "method=spm-mle-fstw - any_incorrects_fittings=24 #\n",
      "method=spm-mle-estw - any_incorrects_fittings=24 #\n",
      "method=spm-mcmc-fstw - any_incorrects_fittings=24 #\n",
      "method=spm-mcmc-estw - any_incorrects_fittings=24 #\n",
      "method=linear-fstw - all_incorrects_fittings=0 #\n",
      "method=bspline-fstw - all_incorrects_fittings=0 #\n",
      "method=spm-mle-fstw - all_incorrects_fittings=0 #\n",
      "method=spm-mle-estw - all_incorrects_fittings=0 #\n",
      "method=spm-mcmc-fstw - all_incorrects_fittings=0 #\n",
      "method=spm-mcmc-estw - all_incorrects_fittings=0 #\n"
     ]
    }
   ],
   "source": [
    "for method in methods:\n",
    "    any_incorrects_fittings = sms.get_any_incorrects_fittings(f'../save/ssne/{method}/{cfilename}', kf, lcset_name)\n",
    "    print(f'method={method} - any_incorrects_fittings={len(any_incorrects_fittings)} #')\n",
    "    #print(any_incorrects_fittings)\n",
    "    \n",
    "for method in methods:\n",
    "    all_incorrects_fittings = sms.get_all_incorrects_fittings(f'../save/ssne/{method}/{cfilename}', kf, lcset_name)\n",
    "    #print(all_incorrects_fittings)\n",
    "    print(f'method={method} - all_incorrects_fittings={len(all_incorrects_fittings)} #')"
   ]
  },
  {
   "cell_type": "code",
   "execution_count": 4,
   "metadata": {},
   "outputs": [
    {
     "name": "stdout",
     "output_type": "stream",
     "text": [
      "The autoreload extension is already loaded. To reload it, use:\n",
      "  %reload_ext autoreload\n"
     ]
    },
    {
     "ename": "ImportError",
     "evalue": "cannot import name 'synth_method_statistics' from 'synthsne' (../synthsne/__init__.py)",
     "output_type": "error",
     "traceback": [
      "\u001b[0;31m---------------------------------------------------------------------------\u001b[0m",
      "\u001b[0;31mImportError\u001b[0m                               Traceback (most recent call last)",
      "\u001b[0;32m<ipython-input-4-81ef9f270510>\u001b[0m in \u001b[0;36m<module>\u001b[0;34m\u001b[0m\n\u001b[1;32m      1\u001b[0m \u001b[0mget_ipython\u001b[0m\u001b[0;34m(\u001b[0m\u001b[0;34m)\u001b[0m\u001b[0;34m.\u001b[0m\u001b[0mrun_line_magic\u001b[0m\u001b[0;34m(\u001b[0m\u001b[0;34m'load_ext'\u001b[0m\u001b[0;34m,\u001b[0m \u001b[0;34m'autoreload'\u001b[0m\u001b[0;34m)\u001b[0m\u001b[0;34m\u001b[0m\u001b[0;34m\u001b[0m\u001b[0m\n\u001b[1;32m      2\u001b[0m \u001b[0mget_ipython\u001b[0m\u001b[0;34m(\u001b[0m\u001b[0;34m)\u001b[0m\u001b[0;34m.\u001b[0m\u001b[0mrun_line_magic\u001b[0m\u001b[0;34m(\u001b[0m\u001b[0;34m'autoreload'\u001b[0m\u001b[0;34m,\u001b[0m \u001b[0;34m'2'\u001b[0m\u001b[0;34m)\u001b[0m\u001b[0;34m\u001b[0m\u001b[0;34m\u001b[0m\u001b[0m\n\u001b[0;32m----> 3\u001b[0;31m \u001b[0;32mfrom\u001b[0m \u001b[0msynthsne\u001b[0m \u001b[0;32mimport\u001b[0m \u001b[0msynth_method_statistics\u001b[0m \u001b[0;32mas\u001b[0m \u001b[0msms\u001b[0m\u001b[0;34m\u001b[0m\u001b[0;34m\u001b[0m\u001b[0m\n\u001b[0m\u001b[1;32m      4\u001b[0m \u001b[0;34m\u001b[0m\u001b[0m\n\u001b[1;32m      5\u001b[0m \u001b[0;32mfor\u001b[0m \u001b[0mmethod\u001b[0m \u001b[0;32min\u001b[0m \u001b[0mmethods\u001b[0m\u001b[0;34m:\u001b[0m\u001b[0;34m\u001b[0m\u001b[0;34m\u001b[0m\u001b[0m\n",
      "\u001b[0;31mImportError\u001b[0m: cannot import name 'synth_method_statistics' from 'synthsne' (../synthsne/__init__.py)"
     ]
    }
   ],
   "source": [
    "%load_ext autoreload\n",
    "%autoreload 2\n",
    "from synthsne import synth_method_statistics as sms\n",
    "\n",
    "for method in methods:\n",
    "    xe_ptimes = sms.get_perf_times(f'../save/ssne/{method}/{cfilename}', kf, lcset_name)\n",
    "    print(f'method={method} - xe_ptimes={xe_ptimes}')"
   ]
  },
  {
   "cell_type": "code",
   "execution_count": null,
   "metadata": {},
   "outputs": [],
   "source": [
    "%load_ext autoreload\n",
    "%autoreload 2\n",
    "from synthsne import synth_method_statistics as sms\n",
    "from fuzzytools.latex.latex_tables import LatexTable\n",
    "\n",
    "info_df = sms.get_info_dict(f'../save/ssne', methods, cfilename, kf, lcset_name)\n",
    "latex_kwargs = {\n",
    "    'caption':f'set={kf}@train',\n",
    "    'label':'???',\n",
    "    'custom_tabular_align':'lc|'+'c'*sum([m.split('-')[-1]=='fstw' for m in methods])+'|'+'c'*sum([m.split('-')[-1]=='estw' for m in methods]), \n",
    "}\n",
    "latex_table = LatexTable(info_df, **latex_kwargs)\n",
    "print(latex_table)\n",
    "info_df"
   ]
  },
  {
   "cell_type": "code",
   "execution_count": null,
   "metadata": {
    "scrolled": true
   },
   "outputs": [],
   "source": [
    "%load_ext autoreload\n",
    "%autoreload 2\n",
    "from synthsne import synth_method_statistics as sms\n",
    "\n",
    "for method in methods:\n",
    "    rank_bdict = sms.get_ranks(f'../save/ssne/{method}/{cfilename}', kf, lcset_name)\n",
    "    print(method)\n",
    "    for b in rank_bdict.keys():\n",
    "        print(rank_bdict[b])"
   ]
  },
  {
   "cell_type": "code",
   "execution_count": null,
   "metadata": {},
   "outputs": [],
   "source": [
    "%load_ext autoreload\n",
    "%autoreload 2\n",
    "from synthsne import synth_method_statistics as sms\n",
    "from fuzzytools.files import load_pickle\n",
    "from fuzzytools.dataframes import DFBuilder\n",
    "from fuzzytools.latex.latex_tables import LatexTable\n",
    "\n",
    "kf = '0'\n",
    "lcset_name = 'train'\n",
    "cfilename = f'survey=alerceZTFv7.1~bands=gr~mode=onlySNe'\n",
    "filedir = f'../save/mcmc_priors/{cfilename}/{kf}@{lcset_name}/mcmc_priors.d'\n",
    "priors_d = load_pickle(filedir)\n",
    "info_df = DFBuilder()\n",
    "spms = ['A','t0','gamma','f','trise','tfall']\n",
    "for b in ['g', 'r']:\n",
    "    for spm_p in spms:\n",
    "        d = {}\n",
    "        for c in ['SLSN', 'SNIa', 'SNIbc', 'allSNII']:\n",
    "            d[c] = priors_d[b][c][spm_p]\n",
    "    \n",
    "        info_df.append(f'SPM var={spm_p}~band={b}', d)\n",
    "    \n",
    "info_df = info_df.get_df()\n",
    "latex_kwargs = {\n",
    "    'caption':f'set={kf}@train',\n",
    "    'label':'???',\n",
    "    'hline_k':len(spms)-1,\n",
    "    }\n",
    "latex_table = LatexTable(info_df, **latex_kwargs)\n",
    "print(latex_table)\n",
    "info_df"
   ]
  }
 ],
 "metadata": {
  "kernelspec": {
   "display_name": "Python 3",
   "language": "python",
   "name": "python3"
  },
  "language_info": {
   "codemirror_mode": {
    "name": "ipython",
    "version": 3
   },
   "file_extension": ".py",
   "mimetype": "text/x-python",
   "name": "python",
   "nbconvert_exporter": "python",
   "pygments_lexer": "ipython3",
   "version": "3.7.10"
  }
 },
 "nbformat": 4,
 "nbformat_minor": 4
}
