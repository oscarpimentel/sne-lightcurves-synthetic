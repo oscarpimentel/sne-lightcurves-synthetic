{
 "cells": [
  {
   "cell_type": "code",
   "execution_count": null,
   "metadata": {},
   "outputs": [],
   "source": [
    "import sys\n",
    "sys.path.append('../../') # or just install the module\n",
    "sys.path.append('../../../fuzzy-tools') # or just install the module\n",
    "sys.path.append('../../../astro-lightcurves-handler') # or just install the module"
   ]
  },
  {
   "cell_type": "code",
   "execution_count": null,
   "metadata": {},
   "outputs": [],
   "source": [
    "from fuzzytools.files import search_for_filedirs\n",
    "from lchandler import _C\n",
    "\n",
    "root_folder = '../../../surveys-save'\n",
    "filedirs = search_for_filedirs(root_folder, fext=_C.EXT_SPLIT_LIGHTCURVE)"
   ]
  },
  {
   "cell_type": "code",
   "execution_count": null,
   "metadata": {},
   "outputs": [],
   "source": [
    "%load_ext autoreload\n",
    "%autoreload 2\n",
    "import numpy as np\n",
    "from fuzzytools.files import load_pickle, save_pickle\n",
    "from fuzzytools.files import get_dict_from_filedir\n",
    "from lchandler import _C\n",
    "\n",
    "def load_lcdataset(filename):\n",
    "    assert filename.split('.')[-1]==_C.EXT_SPLIT_LIGHTCURVE\n",
    "    return load_pickle(filename)\n",
    "\n",
    "filedir = '../../../surveys-save/alerceZTFv7.1/survey-alerceZTFv7.1_bands-gr_mode-onlySNe_kfid-0.splcds'\n",
    "\n",
    "filedict = get_dict_from_filedir(filedir)\n",
    "root_folder = filedict['*rootdir*']\n",
    "cfilename = filedict['*cfilename*']\n",
    "survey = filedict['survey']\n",
    "lcdataset = load_lcdataset(filedir)\n",
    "print(lcdataset['raw'].keys())\n",
    "print(lcdataset['raw'].get_random_lcobj(False).keys())\n",
    "print(lcdataset)"
   ]
  },
  {
   "cell_type": "code",
   "execution_count": null,
   "metadata": {},
   "outputs": [],
   "source": [
    "import pandas as pd\n",
    "\n",
    "load_filedir = f'../../data/{survey}/sne_specials.csv'\n",
    "sne_specials_df = pd.read_csv(load_filedir)\n",
    "print(sne_specials_df['outliers'].values)\n",
    "sne_specials_df"
   ]
  }
 ],
 "metadata": {
  "kernelspec": {
   "display_name": "Python 3",
   "language": "python",
   "name": "python3"
  },
  "language_info": {
   "codemirror_mode": {
    "name": "ipython",
    "version": 3
   },
   "file_extension": ".py",
   "mimetype": "text/x-python",
   "name": "python",
   "nbconvert_exporter": "python",
   "pygments_lexer": "ipython3",
   "version": "3.7.9"
  }
 },
 "nbformat": 4,
 "nbformat_minor": 4
}
