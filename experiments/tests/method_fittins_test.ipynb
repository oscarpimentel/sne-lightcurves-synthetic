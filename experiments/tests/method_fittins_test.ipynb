{
 "cells": [
  {
   "cell_type": "code",
   "execution_count": null,
   "metadata": {},
   "outputs": [],
   "source": [
    "import sys\n",
    "sys.path.append('../../') # or just install the module\n",
    "sys.path.append('../../../fuzzy-tools') # or just install the module\n",
    "sys.path.append('../../../astro-lightcurves-handler') # or just install the module"
   ]
  },
  {
   "cell_type": "code",
   "execution_count": null,
   "metadata": {},
   "outputs": [],
   "source": [
    "from fuzzytools.files import search_for_filedirs\n",
    "from lchandler import _C\n",
    "\n",
    "root_folder = '../../../surveys-save'\n",
    "filedirs = search_for_filedirs(root_folder, fext=_C.EXT_SPLIT_LIGHTCURVE)"
   ]
  },
  {
   "cell_type": "code",
   "execution_count": null,
   "metadata": {},
   "outputs": [],
   "source": [
    "%load_ext autoreload\n",
    "%autoreload 2\n",
    "import numpy as np\n",
    "from fuzzytools.files import load_pickle, save_pickle\n",
    "from fuzzytools.files import get_dict_from_filedir\n",
    "from lchandler import _C\n",
    "\n",
    "def load_lcdataset(filename):\n",
    "    assert filename.split('.')[-1]==_C.EXT_SPLIT_LIGHTCURVE\n",
    "    return load_pickle(filename)\n",
    "\n",
    "filedir = '../../../surveys-save/alerceZTFv7.1/survey=alerceZTFv7.1°bands=gr°mode=onlySNe.splcds'\n",
    "\n",
    "filedict = get_dict_from_filedir(filedir)\n",
    "root_folder = filedict['*rootdir*']\n",
    "cfilename = filedict['*cfilename*']\n",
    "survey = filedict['survey']\n",
    "lcdataset = load_lcdataset(filedir)\n",
    "print(lcdataset['raw'].keys())\n",
    "print(lcdataset['raw'].get_random_lcobj(False).keys())\n",
    "print(lcdataset)"
   ]
  },
  {
   "cell_type": "code",
   "execution_count": null,
   "metadata": {},
   "outputs": [],
   "source": [
    "%load_ext autoreload\n",
    "%autoreload 2\n",
    "import matplotlib.pyplot as plt\n",
    "from synthsne.generators.synthetic_curves import get_syn_sne_generator\n",
    "from synthsne.plots.lc import plot_synthetic_samples\n",
    "from synthsne import _C\n",
    "\n",
    "set_name = 'train'\n",
    "\n",
    "save_rootdir = f'../../save/{survey}/{cfilename}/{set_name}'\n",
    "samplers = load_pickle(f'{save_rootdir}/samplers.{_C.EXT_SAMPLER}')\n",
    "obse_sampler_bdict = samplers['obse_sampler_bdict']\n",
    "length_sampler_bdict = samplers['length_sampler_bdict']\n",
    "    \n",
    "method = 'uniformprior'\n",
    "method = 'curvefit'\n",
    "method = 'mcmc'\n",
    "#method = 'linear'\n",
    "#method = 'bspline'\n",
    "\n",
    "synthetic_samples_per_curve = 32\n",
    "\n",
    "lcset = lcdataset[set_name]\n",
    "lcobj_names = [\n",
    "'ZTF18acqyvag',\n",
    "'ZTF18aaqvuhl',\n",
    "'ZTF20aamuqwn',\n",
    "'ZTF18adasisj',\n",
    "'ZTF20aavgmli',\n",
    "'ZTF19aaqcqkv',\n",
    "'ZTF19aadnxat',\n",
    "'ZTF19aaripqw',\n",
    "'ZTF18aaqkdwf',\n",
    "]\n",
    "for lcobj_name in lcobj_names:\n",
    "    if not lcobj_name in lcset.get_lcobj_names():\n",
    "        continue\n",
    "    lcobj = lcset[lcobj_name]\n",
    "    band_names = lcset.band_names\n",
    "    class_names = lcset.class_names\n",
    "    gen_kwargs = {\n",
    "        #'uses_new_bounds':False,\n",
    "        'uses_new_bounds':True,\n",
    "    }\n",
    "    generator_class = get_syn_sne_generator(method)\n",
    "    sne_generator = generator_class(lcobj, class_names, band_names, obse_sampler_bdict, length_sampler_bdict, **gen_kwargs)\n",
    "    new_lcobjs, new_smooth_lcojbs, trace_bdict, segs = sne_generator.sample_curves(synthetic_samples_per_curve)\n",
    "    plot_kwargs = {\n",
    "        'trace_bdict':trace_bdict,\n",
    "        #'save_filedir':f'../save/test_{lcobj_name}.png',\n",
    "        'save_filedir':None,\n",
    "    }\n",
    "    plot_synthetic_samples(lcset, set_name, method, lcobj_name, new_lcobjs, new_smooth_lcojbs, **plot_kwargs)\n",
    "    plt.show()\n",
    "    #break"
   ]
  }
 ],
 "metadata": {
  "kernelspec": {
   "display_name": "Python 3",
   "language": "python",
   "name": "python3"
  },
  "language_info": {
   "codemirror_mode": {
    "name": "ipython",
    "version": 3
   },
   "file_extension": ".py",
   "mimetype": "text/x-python",
   "name": "python",
   "nbconvert_exporter": "python",
   "pygments_lexer": "ipython3",
   "version": "3.7.9"
  }
 },
 "nbformat": 4,
 "nbformat_minor": 4
}
