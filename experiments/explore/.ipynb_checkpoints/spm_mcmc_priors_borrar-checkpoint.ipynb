{
 "cells": [
  {
   "cell_type": "code",
   "execution_count": 1,
   "metadata": {},
   "outputs": [],
   "source": [
    "import sys\n",
    "sys.path.append('../../') # or just install the module\n",
    "sys.path.append('../../../fuzzy-tools') # or just install the module\n",
    "sys.path.append('../../../astro-lightcurves-handler') # or just install the module"
   ]
  },
  {
   "cell_type": "code",
   "execution_count": 2,
   "metadata": {},
   "outputs": [
    {
     "name": "stdout",
     "output_type": "stream",
     "text": [
      "────────────────────────────────────────────────────────────────────────────────────────────────────\n",
      "found filedirs: (../../save)\n",
      "(0) - ../../save/alerceZTFv7.1/survey=alerceZTFv7.1°bands=gr°mode=onlySNe/1@train/samplers.smplr - 10.843[mbs]\n",
      "(1) - ../../save/alerceZTFv7.1/survey=alerceZTFv7.1°bands=gr°mode=onlySNe/2@train/samplers.smplr - 10.715[mbs]\n",
      "(2) - ../../save/alerceZTFv7.1/survey=alerceZTFv7.1°bands=gr°mode=onlySNe/0@train/samplers.smplr - 10.591[mbs]\n",
      "(3) - ../../save/borra1/survey=alerceZTFv7.1°bands=gr°mode=onlySNe/1@train/samplers.smplr - 10.843[mbs]\n",
      "(4) - ../../save/borra1/survey=alerceZTFv7.1°bands=gr°mode=onlySNe/1@val/samplers.smplr - 10.843[mbs]\n",
      "(5) - ../../save/borra1/survey=alerceZTFv7.1°bands=gr°mode=onlySNe/2@train/samplers.smplr - 10.715[mbs]\n",
      "(6) - ../../save/borra1/survey=alerceZTFv7.1°bands=gr°mode=onlySNe/2@val/samplers.smplr - 10.715[mbs]\n",
      "(7) - ../../save/borra1/survey=alerceZTFv7.1°bands=gr°mode=onlySNe/0@train/samplers.smplr - 10.591[mbs]\n",
      "(8) - ../../save/borra1/survey=alerceZTFv7.1°bands=gr°mode=onlySNe/0@val/samplers.smplr - 10.591[mbs]\n",
      "(9) - ../../save/borrar2/survey=alerceZTFv7.1°bands=gr°mode=onlySNe/0@train/samplers.smplr - 10.591[mbs]\n",
      "────────────────────────────────────────────────────────────────────────────────────────────────────\n",
      "filedirs after searching with filters: (../../save)\n",
      "(0) - ../../save/alerceZTFv7.1/survey=alerceZTFv7.1°bands=gr°mode=onlySNe/1@train/samplers.smplr - 10.843[mbs]\n",
      "(1) - ../../save/alerceZTFv7.1/survey=alerceZTFv7.1°bands=gr°mode=onlySNe/2@train/samplers.smplr - 10.715[mbs]\n",
      "(2) - ../../save/alerceZTFv7.1/survey=alerceZTFv7.1°bands=gr°mode=onlySNe/0@train/samplers.smplr - 10.591[mbs]\n",
      "(3) - ../../save/borra1/survey=alerceZTFv7.1°bands=gr°mode=onlySNe/1@train/samplers.smplr - 10.843[mbs]\n",
      "(4) - ../../save/borra1/survey=alerceZTFv7.1°bands=gr°mode=onlySNe/1@val/samplers.smplr - 10.843[mbs]\n",
      "(5) - ../../save/borra1/survey=alerceZTFv7.1°bands=gr°mode=onlySNe/2@train/samplers.smplr - 10.715[mbs]\n",
      "(6) - ../../save/borra1/survey=alerceZTFv7.1°bands=gr°mode=onlySNe/2@val/samplers.smplr - 10.715[mbs]\n",
      "(7) - ../../save/borra1/survey=alerceZTFv7.1°bands=gr°mode=onlySNe/0@train/samplers.smplr - 10.591[mbs]\n",
      "(8) - ../../save/borra1/survey=alerceZTFv7.1°bands=gr°mode=onlySNe/0@val/samplers.smplr - 10.591[mbs]\n",
      "(9) - ../../save/borrar2/survey=alerceZTFv7.1°bands=gr°mode=onlySNe/0@train/samplers.smplr - 10.591[mbs]\n",
      "────────────────────────────────────────────────────────────────────────────────────────────────────\n"
     ]
    }
   ],
   "source": [
    "from fuzzytools.files import search_for_filedirs\n",
    "from synthsne import _C\n",
    "\n",
    "root_folder = '../../save'\n",
    "filedirs = search_for_filedirs(root_folder, fext=_C.EXT_SAMPLER)"
   ]
  },
  {
   "cell_type": "code",
   "execution_count": 3,
   "metadata": {},
   "outputs": [],
   "source": [
    "%load_ext autoreload\n",
    "%autoreload 2\n",
    "from synthsne import synth_method_statistics as sms\n",
    "\n",
    "kf=0\n",
    "lcset_name = f'{kf}@train'\n",
    "rootdir = f'../../save/alerceZTFv7.1/survey=alerceZTFv7.1°bands=gr°mode=onlySNe/{lcset_name}'\n",
    "method = 'spm-mle-fstw'"
   ]
  },
  {
   "cell_type": "code",
   "execution_count": 4,
   "metadata": {
    "scrolled": false
   },
   "outputs": [
    {
     "name": "stdout",
     "output_type": "stream",
     "text": [
      "The autoreload extension is already loaded. To reload it, use:\n",
      "  %reload_ext autoreload\n",
      "0.01282051282051282\n",
      "[73.26735323 32.16102747 33.6778424  58.40777732 63.37003359  9.58124578\n",
      " 44.56908075 65.90138542  4.59844542 36.61282672]\n"
     ]
    },
    {
     "data": {
      "text/plain": [
       "$\\uniformdist{0.000, 78.000}$"
      ]
     },
     "execution_count": 4,
     "metadata": {},
     "output_type": "execute_result"
    }
   ],
   "source": [
    "%load_ext autoreload\n",
    "%autoreload 2\n",
    "import synthsne.generators.mcmc_priors as mp\n",
    "from synthsne.plots.mcmc import plot_mcmc_prior\n",
    "\n",
    "gp = mp.UniformP([0,5,6,7,8,9,5,2,78,5,2,2,4,5,0,5,0,1,1])\n",
    "print(gp.pdf(5))\n",
    "print(gp.sample(10))\n",
    "gp"
   ]
  },
  {
   "cell_type": "code",
   "execution_count": 8,
   "metadata": {
    "scrolled": false
   },
   "outputs": [
    {
     "name": "stdout",
     "output_type": "stream",
     "text": [
      "The autoreload extension is already loaded. To reload it, use:\n",
      "  %reload_ext autoreload\n",
      "\u001b[32m> saving: asd.s\u001b[0m\n"
     ]
    }
   ],
   "source": [
    "%load_ext autoreload\n",
    "%autoreload 2\n",
    "import synthsne.generators.mcmc_priors as mp\n",
    "from synthsne.plots.mcmc import plot_mcmc_prior\n",
    "import numpy as np\n",
    "from nested_dict import nested_dict\n",
    "from fuzzytools.files import save_pickle\n",
    "\n",
    "spm_classes = {\n",
    "    'A':'GammaP',\n",
    "    't0':'NormalP',\n",
    "    'gamma':'GammaP',\n",
    "    'f':'UniformP',\n",
    "    'trise':'GammaP',\n",
    "    'tfall':'GammaP',\n",
    "}\n",
    "classes = ['SNIa', 'allSNII', 'SNIbc', 'SLSN']\n",
    "#classes = ['SLSN']\n",
    "band_names = ['g', 'r']\n",
    "mcmc_priors = nested_dict()\n",
    "for c in classes:\n",
    "    for b in band_names:\n",
    "        for spm_p in spm_classes.keys():\n",
    "            spm_p_samples = sms.get_spm_args(rootdir, method, spm_p, b, c)\n",
    "            #print(spm_p_samples)\n",
    "            kwargs = {}\n",
    "            if spm_p=='A':\n",
    "                kwargs = {'floc':0}\n",
    "            mcmc_prior = getattr(mp, spm_classes[spm_p])(spm_p_samples, **kwargs)\n",
    "            #print(mcmc_prior)\n",
    "            #plot_mcmc_prior(mcmc_prior, spm_p, b, c)\n",
    "            mcmc_priors[b][c][spm_p] = mcmc_prior\n",
    "            \n",
    "save_filedir = f'asd.d'\n",
    "save_pickle(save_filedir, mcmc_priors.to_dict())"
   ]
  },
  {
   "cell_type": "code",
   "execution_count": 34,
   "metadata": {},
   "outputs": [],
   "source": [
    "big_obj = mcmc_priors.to_dict()"
   ]
  },
  {
   "cell_type": "code",
   "execution_count": null,
   "metadata": {},
   "outputs": [],
   "source": [
    "from joblib import Parallel, delayed\n",
    "import numpy as np\n",
    "\n",
    "def job(l,e):\n",
    "    return sum([x**2 for x in l])\n",
    "\n",
    "n = 1e4\n",
    "jobs = []\n",
    "jobs.append(delayed(job)([np.random.uniform() for _ in range(int(n))],big_obj))\n",
    "jobs.append(delayed(job)([np.random.uniform() for _ in range(int(n))],big_obj))\n",
    "jobs.append(delayed(job)([np.random.uniform() for _ in range(int(n))],big_obj))\n",
    "results = Parallel(n_jobs=8, backend='loky')(jobs)\n",
    "results"
   ]
  }
 ],
 "metadata": {
  "kernelspec": {
   "display_name": "Python 3",
   "language": "python",
   "name": "python3"
  },
  "language_info": {
   "codemirror_mode": {
    "name": "ipython",
    "version": 3
   },
   "file_extension": ".py",
   "mimetype": "text/x-python",
   "name": "python",
   "nbconvert_exporter": "python",
   "pygments_lexer": "ipython3",
   "version": "3.7.9"
  }
 },
 "nbformat": 4,
 "nbformat_minor": 4
}
